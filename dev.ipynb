{
 "cells": [
  {
   "cell_type": "markdown",
   "metadata": {},
   "source": [
    "# Auto encoder"
   ]
  },
  {
   "cell_type": "markdown",
   "metadata": {},
   "source": [
    "## Read data"
   ]
  },
  {
   "cell_type": "code",
   "execution_count": 1,
   "metadata": {},
   "outputs": [
    {
     "data": {
      "text/plain": [
       "['CRKALN_001',\n",
       " 'CRKALN_002',\n",
       " 'CRKALN_003',\n",
       " 'CRKALN_004',\n",
       " 'CRKALN_005',\n",
       " 'CRKALN_006',\n",
       " 'CRKALN_007',\n",
       " 'CRKALN_008',\n",
       " 'CRKALN_009',\n",
       " 'CRKALN_010']"
      ]
     },
     "execution_count": 1,
     "metadata": {},
     "output_type": "execute_result"
    }
   ],
   "source": [
    "from prepare_data import listTurbines\n",
    "\n",
    "\n",
    "turbines = listTurbines()\n",
    "turbines"
   ]
  },
  {
   "cell_type": "code",
   "execution_count": 2,
   "metadata": {},
   "outputs": [
    {
     "name": "stdout",
     "output_type": "stream",
     "text": [
      "(297360, 720, 26)\n",
      "Index(['avgwindspeed', 'avgpower', 'windspeedstandarddeviation',\n",
      "       'nacelleposition', 'avgwinddirection', 'availablepowerpublished',\n",
      "       'avgrotorspeed', 'avgpitchangle', 'avgreactivepower',\n",
      "       'ambienttemperature', 'avghumidity', 'turbinepressure', 'density',\n",
      "       'latitude', 'longitude', 'cutoutwindspeed', 'ratedwindspeed',\n",
      "       'rotordiameter', 'hubheight', 'groundlevelaltitude', 'turbulent',\n",
      "       'underperformanceprobability', 'overperformanceprobability',\n",
      "       'turbulentvalid', 'underperformanceprobabilityvalid',\n",
      "       'overperformanceprobabilityvalid'],\n",
      "      dtype='object')\n"
     ]
    }
   ],
   "source": [
    "from prepare_data import TurbineData\n",
    "\n",
    "\n",
    "turbineData = TurbineData(turbines[1], verbose=True)\n",
    "print(turbineData.data3d.shape)\n",
    "print(turbineData.columns)"
   ]
  },
  {
   "cell_type": "markdown",
   "metadata": {},
   "source": [
    "### Filter valid data"
   ]
  },
  {
   "cell_type": "code",
   "execution_count": 3,
   "metadata": {},
   "outputs": [
    {
     "data": {
      "text/plain": [
       "(1, 0)"
      ]
     },
     "execution_count": 3,
     "metadata": {},
     "output_type": "execute_result"
    }
   ],
   "source": [
    "idPower = turbineData.getIdOfColumn(\"avgpower\")\n",
    "idWind = turbineData.getIdOfColumn(\"avgwindspeed\")\n",
    "\n",
    "idPower, idWind"
   ]
  },
  {
   "cell_type": "code",
   "execution_count": 4,
   "metadata": {},
   "outputs": [
    {
     "name": "stdout",
     "output_type": "stream",
     "text": [
      "Valid: 10995\n",
      "Not underperform: 297360\n",
      "Normal: 10995\n"
     ]
    }
   ],
   "source": [
    "normalIndices = turbineData.getNormalIndices(\n",
    "    maxConsecutiveInvalid=5,  # 1 hours of consecutive invalid data\n",
    "    maxInvalidRate=0.5,\n",
    "    underperformThreshold=1,  # ignore underperf threshold\n",
    ")"
   ]
  },
  {
   "cell_type": "markdown",
   "metadata": {},
   "source": [
    "## Split train test"
   ]
  },
  {
   "cell_type": "code",
   "execution_count": 5,
   "metadata": {},
   "outputs": [
    {
     "name": "stdout",
     "output_type": "stream",
     "text": [
      "8796 2199\n"
     ]
    }
   ],
   "source": [
    "import numpy as np\n",
    "\n",
    "\n",
    "SEED = 17\n",
    "TEST_RATIO = 0.2\n",
    "\n",
    "\n",
    "# suffle data\n",
    "np.random.seed(SEED)\n",
    "np.random.shuffle(normalIndices)\n",
    "\n",
    "# split data\n",
    "n_test = int(len(normalIndices) * TEST_RATIO)\n",
    "testIndices = normalIndices[:n_test]\n",
    "trainIndices = normalIndices[n_test:]\n",
    "\n",
    "print(len(trainIndices), len(testIndices))"
   ]
  },
  {
   "cell_type": "code",
   "execution_count": 6,
   "metadata": {},
   "outputs": [
    {
     "name": "stdout",
     "output_type": "stream",
     "text": [
      "Data shape: (1, 720, 5)\n"
     ]
    }
   ],
   "source": [
    "# from sklearn.discriminant_analysis import StandardScaler\n",
    "# from sklearn.impute import KNNImputer\n",
    "# from sklearn.pipeline import Pipeline\n",
    "\n",
    "# from cls_dataset import trainTestTurbineDataset\n",
    "\n",
    "\n",
    "# targetFeats = [\n",
    "#     \"avgwindspeed\",\n",
    "#     \"avgpower\",\n",
    "#     \"ambienttemperature\",\n",
    "#     \"avghumidity\",\n",
    "#     \"avgrotorspeed\",\n",
    "# ]\n",
    "# targetFeatIndices = [turbineData.getIdOfColumn(feat) for feat in targetFeats]\n",
    "\n",
    "# underPerfValidId = turbineData.getIdOfColumn(\"underperformanceprobabilityvalid\")\n",
    "\n",
    "\n",
    "# sortedTrainIndices = trainIndices.copy()\n",
    "# sortedTrainIndices.sort()  # h5py requires sorted indices\n",
    "\n",
    "# trainData2d = turbineData.data3d[sortedTrainIndices, 0, :]\n",
    "# # drop invalid\n",
    "# trainData2d = trainData2d[trainData2d[:, underPerfValidId] == 1]\n",
    "\n",
    "# transformerTrainData = trainData2d[:, targetFeatIndices]\n",
    "# print(f\"Train data for scaler and imputer {transformerTrainData.shape}\")\n",
    "\n",
    "# stdScaler = StandardScaler()\n",
    "# stdScaler.fit_transform(transformerTrainData)\n",
    "\n",
    "# knn = KNNImputer(n_neighbors=3)\n",
    "# knn.fit_transform(transformerTrainData)\n",
    "\n",
    "# transformer = Pipeline([(\"scaler\", stdScaler), (\"knn\", knn)])\n",
    "\n",
    "# trainSet, testSet = trainTestTurbineDataset(\n",
    "#     turbineData.data3d,\n",
    "#     trainIndices,\n",
    "#     testIndices,\n",
    "#     targetFeatIndices,\n",
    "#     transformer.transform,\n",
    "#     underPerfValidId,\n",
    "# )\n",
    "\n",
    "# trainSet.save(\"tmp/trainSet\")\n",
    "# testSet.save(\"tmp/testSet\")\n",
    "\n",
    "\n",
    "from cls_dataset import TurbineDataset\n",
    "\n",
    "\n",
    "trainSet = TurbineDataset.load(\"tmp/trainSet\")\n",
    "testSet = TurbineDataset.load(\"tmp/testSet\")\n",
    "\n",
    "with open(\"./train.log\", \"w\") as f:\n",
    "    print(trainSet[0][0], file=f)\n",
    "\n",
    "print(f\"Data shape: {trainSet[0][0].shape}\")"
   ]
  },
  {
   "cell_type": "markdown",
   "metadata": {},
   "source": [
    "## Model"
   ]
  },
  {
   "cell_type": "code",
   "execution_count": 7,
   "metadata": {},
   "outputs": [
    {
     "name": "stdout",
     "output_type": "stream",
     "text": [
      "Conv1: torch.Size([32, 8, 360, 3])\n",
      "Conv2: torch.Size([32, 16, 180, 2])\n",
      "Conv3: torch.Size([32, 32, 179, 1])\n",
      "Expected output shape: torch.Size([32, 1, 720, 5])\n",
      "Output shape: torch.Size([32, 1, 717, 5])\n"
     ]
    }
   ],
   "source": [
    "import torch\n",
    "import torch.nn as nn\n",
    "import torch.nn.functional as F\n",
    "\n",
    "\n",
    "class Encoder(nn.Module):\n",
    "    def __init__(self, latentDim):\n",
    "        super().__init__()\n",
    "        self.latentDim = latentDim\n",
    "        # 1 learnable embedding for invalid values\n",
    "        self.conv1 = nn.Conv2d(1, 8, kernel_size=3, stride=2, padding=1)  # 5->3\n",
    "        self.conv2 = nn.Conv2d(8, 16, kernel_size=3, stride=2, padding=1)  # 3->2\n",
    "        self.conv3 = nn.Conv2d(16, 32, kernel_size=2)  # 2->1\n",
    "        self.flatten = nn.Flatten()\n",
    "        self.fc1 = nn.Linear(5728, 2048)\n",
    "        self.fc2 = nn.Linear(2048, latentDim)\n",
    "\n",
    "        # debug flag\n",
    "        self.debug = 0  # print once\n",
    "    def forward(self, x):\n",
    "        debugging = False\n",
    "        if self.debug > 0:\n",
    "            debugging = True\n",
    "            self.debug -= 1\n",
    "\n",
    "        x= self.conv1(x)\n",
    "        x = F.leaky_relu(x)\n",
    "        if debugging:\n",
    "            print(f\"Conv1: {x.shape}\")\n",
    "            \n",
    "        x = self.conv2(x)\n",
    "        x = F.leaky_relu(x)\n",
    "        if debugging:\n",
    "            print(f\"Conv2: {x.shape}\")\n",
    "            \n",
    "        x = self.conv3(x)\n",
    "        x = F.leaky_relu(x)\n",
    "        if debugging:\n",
    "            print(f\"Conv3: {x.shape}\")\n",
    "            \n",
    "        x = self.flatten(x)\n",
    "        x = self.fc1(x)\n",
    "        x = F.leaky_relu(x)\n",
    "        x = self.fc2(x)\n",
    "        return x\n",
    "class Decoder(nn.Module):\n",
    "    def __init__(self, latentDim):\n",
    "        super().__init__()\n",
    "        self.latentDim = latentDim\n",
    "        self.fc1 = nn.Linear(latentDim, 2048)\n",
    "        self.fc2 = nn.Linear(2048, 5728)\n",
    "        self.conv1 = nn.ConvTranspose2d(32, 16, kernel_size=2)\n",
    "        self.conv2 = nn.ConvTranspose2d(16, 8, kernel_size=3, stride=2, padding=1)\n",
    "        self.conv3 = nn.ConvTranspose2d(8, 1, kernel_size=3, stride=2, padding=1)\n",
    "        self.debug = 0  # print once\n",
    "    def forward(self, x):\n",
    "        debugging = False\n",
    "        if self.debug > 0:\n",
    "            debugging = True\n",
    "            self.debug -= 1\n",
    "        x = self.fc1(x)\n",
    "        x = F.leaky_relu(x)\n",
    "        if debugging:\n",
    "            print(f\"FC1: {x.shape}\")\n",
    "        x = self.fc2(x)\n",
    "        x = F.leaky_relu(x)\n",
    "        if debugging:\n",
    "            print(f\"FC2: {x.shape}\")\n",
    "        x = x.view(-1, 32, 179, 1)\n",
    "        x = self.conv1(x)\n",
    "        x = F.leaky_relu(x)\n",
    "        if debugging:\n",
    "            print(f\"Conv1: {x.shape}\")\n",
    "        x = self.conv2(x)\n",
    "        x = F.leaky_relu(x)\n",
    "        if debugging:\n",
    "            print(f\"Conv2: {x.shape}\")\n",
    "        x = self.conv3(x)\n",
    "        if debugging:\n",
    "            print(f\"Conv3: {x.shape}\")\n",
    "        return x\n",
    "class Autoencoder(nn.Module):\n",
    "    def __init__(self, latent_dim: int):\n",
    "        super().__init__()\n",
    "        self.encoder = Encoder(latent_dim)\n",
    "        self.decoder = Decoder(latent_dim)\n",
    "    def forward(self, x):\n",
    "        latent = self.encoder(x)\n",
    "        reconstructed = self.decoder(latent)\n",
    "        return reconstructed\n",
    "\n",
    "\n",
    "# test if the model is working\n",
    "testModel = Autoencoder(1024)\n",
    "testModel.encoder.debug = 1\n",
    "\n",
    "# pass a random tensor to the model\n",
    "x = torch.randn(32, 1, 720, 5)\n",
    "output = testModel(x)\n",
    "\n",
    "print(f\"Expected output shape: {x.shape}\")\n",
    "print(f\"Output shape: {output.shape}\")\n",
    "\n",
    "# print(x[0])\n",
    "# print(output[0])\n",
    "\n",
    "del testModel\n",
    "del x\n",
    "del output"
   ]
  },
  {
   "cell_type": "markdown",
   "metadata": {},
   "source": [
    "## Training "
   ]
  },
  {
   "cell_type": "code",
   "execution_count": 12,
   "metadata": {},
   "outputs": [
    {
     "name": "stdout",
     "output_type": "stream",
     "text": [
      "Epoch [1/20], Loss: 4.1646\n",
      "Epoch [2/20], Loss: 3.1544\n",
      "Epoch [3/20], Loss: 2.6741\n",
      "Epoch [4/20], Loss: 2.4274\n",
      "Epoch [5/20], Loss: 2.2470\n",
      "Epoch [6/20], Loss: 2.1045\n",
      "Epoch [7/20], Loss: 2.0126\n",
      "Epoch [8/20], Loss: 1.9256\n",
      "Epoch [9/20], Loss: 1.8549\n",
      "Epoch [10/20], Loss: 1.7935\n",
      "Epoch [11/20], Loss: 1.7319\n",
      "Epoch [12/20], Loss: 1.6830\n",
      "Epoch [13/20], Loss: 1.6326\n",
      "Epoch [14/20], Loss: 1.5962\n",
      "Epoch [15/20], Loss: 1.5529\n",
      "Epoch [16/20], Loss: 1.5124\n",
      "Epoch [17/20], Loss: 1.4780\n",
      "Epoch [18/20], Loss: 1.4455\n",
      "Epoch [19/20], Loss: 1.4121\n",
      "Epoch [20/20], Loss: 1.3834\n"
     ]
    }
   ],
   "source": [
    "from matplotlib import pyplot as plt\n",
    "import torch.optim as optim\n",
    "from torch.utils.data import DataLoader\n",
    "\n",
    "\n",
    "device = torch.device(\"cuda\" if torch.cuda.is_available() else \"cpu\")\n",
    "\n",
    "trainLoader = DataLoader(trainSet, batch_size=16, shuffle=True, pin_memory=True)\n",
    "testLoader = DataLoader(testSet, batch_size=16, shuffle=True, pin_memory=True)\n",
    "\n",
    "model = Autoencoder(516).to(device)\n",
    "criterion = nn.MSELoss()\n",
    "optimizer = optim.Adam(model.parameters())\n",
    "\n",
    "# Training loop\n",
    "num_epochs = 20\n",
    "earlyStopping = 10\n",
    "losses = []\n",
    "for epoch in range(num_epochs):\n",
    "    for x, _ in trainLoader:\n",
    "        x = x.float().to(device)\n",
    "        optimizer.zero_grad()\n",
    "\n",
    "        # Forward pass\n",
    "        reconstructs = model(x)\n",
    "        \n",
    "        # match reconstructed shape with inputs\n",
    "        n_timestepsReconstructed = reconstructs.shape[-2]\n",
    "        x = x[:, :, :n_timestepsReconstructed, :]\n",
    "\n",
    "        # take temp and rotor speed \n",
    "        reconstructs = reconstructs[:, :, :, [2,4]]\n",
    "        x = x[:, :, :, [2,4]]\n",
    "\n",
    "        loss = criterion(reconstructs, x)\n",
    "\n",
    "        # Backward pass and optimization\n",
    "        loss.backward()\n",
    "        optimizer.step()\n",
    "\n",
    "        losses.append(loss.item())\n",
    "\n",
    "    print(f\"Epoch [{epoch+1}/{num_epochs}], Loss: {np.mean(losses):.4f}\")\n",
    "\n",
    "# Save the model\n",
    "torch.save(model.state_dict(), \"autoencoder_cnn.pth\")\n"
   ]
  },
  {
   "cell_type": "code",
   "execution_count": 9,
   "metadata": {},
   "outputs": [
    {
     "data": {
      "text/plain": [
       "[<matplotlib.lines.Line2D at 0x7a4005878160>]"
      ]
     },
     "execution_count": 9,
     "metadata": {},
     "output_type": "execute_result"
    },
    {
     "data": {
      "image/png": "[encoded data removed]",
      "text/plain": [
       "<Figure size 640x480 with 1 Axes>"
      ]
     },
     "metadata": {},
     "output_type": "display_data"
    }
   ],
   "source": [
    "plt.style.use(\"fivethirtyeight\")\n",
    "plt.xlabel(\"Iterations\")\n",
    "plt.ylabel(\"Loss\")\n",
    "\n",
    "# Plotting the last 100 values\n",
    "\n",
    "plt.plot(losses[:100])"
   ]
  },
  {
   "cell_type": "markdown",
   "metadata": {},
   "source": [
    "## Evaluating"
   ]
  },
  {
   "cell_type": "code",
   "execution_count": 18,
   "metadata": {},
   "outputs": [],
   "source": [
    "tempIn = []\n",
    "tempOut = []\n",
    "\n",
    "rotIn = []\n",
    "rotOut = []\n",
    "\n",
    "model.eval()\n",
    "with torch.no_grad():\n",
    "    for x, _ in testLoader:\n",
    "        x = x.float().to(device)\n",
    "        reconstructs = model(x)\n",
    "\n",
    "        n_timestepsReconstructed = reconstructs.shape[-2]\n",
    "        x = x[:, :, :n_timestepsReconstructed, :]\n",
    "\n",
    "        for sample in x.detach().cpu().numpy():\n",
    "            for channel in sample:\n",
    "                for timestep in channel:\n",
    "                    tempIn.append(timestep[2])\n",
    "                    rotIn.append(timestep[4])\n",
    "                    \n",
    "        for sample in reconstructs.detach().cpu().numpy():\n",
    "            for channel in sample:\n",
    "                for timestep in channel:\n",
    "                    tempOut.append(timestep[0])\n",
    "                    rotOut.append(timestep[1])\n"
   ]
  },
  {
   "cell_type": "code",
   "execution_count": 13,
   "metadata": {},
   "outputs": [],
   "source": [
    "tempIn, tempOut = zip(*sorted(zip(tempIn, tempOut)))\n",
    "rotIn, rotOut = zip(*sorted(zip(rotIn, rotOut)))"
   ]
  },
  {
   "cell_type": "code",
   "execution_count": 17,
   "metadata": {},
   "outputs": [
    {
     "data": {
      "image/png": "[encoded data removed]",
      "text/plain": [
       "<Figure size 1000x500 with 1 Axes>"
      ]
     },
     "metadata": {},
     "output_type": "display_data"
    }
   ],
   "source": [
    "plt.figure(figsize=(10, 5))\n",
    "plt.plot(rotIn[5000:5100], label=\"Input\")\n",
    "plt.plot(rotOut[5000:5100], label=\"Reconstructed\")\n",
    "plt.legend()\n",
    "plt.show()"
   ]
  }
 ],
 "metadata": {
  "kernelspec": {
   "display_name": "base",
   "language": "python",
   "name": "python3"
  },
  "language_info": {
   "codemirror_mode": {
    "name": "ipython",
    "version": 3
   },
   "file_extension": ".py",
   "mimetype": "text/x-python",
   "name": "python",
   "nbconvert_exporter": "python",
   "pygments_lexer": "ipython3",
   "version": "3.9.19"
  }
 },
 "nbformat": 4,
 "nbformat_minor": 2
}
