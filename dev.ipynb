{
 "cells": [
  {
   "cell_type": "markdown",
   "metadata": {},
   "source": [
    "# Auto encoder"
   ]
  },
  {
   "cell_type": "markdown",
   "metadata": {},
   "source": [
    "## Read data"
   ]
  },
  {
   "cell_type": "code",
   "execution_count": 1,
   "metadata": {},
   "outputs": [
    {
     "data": {
      "text/plain": [
       "['CRKALN_001',\n",
       " 'CRKALN_002',\n",
       " 'CRKALN_003',\n",
       " 'CRKALN_004',\n",
       " 'CRKALN_005',\n",
       " 'CRKALN_006',\n",
       " 'CRKALN_007',\n",
       " 'CRKALN_008',\n",
       " 'CRKALN_009',\n",
       " 'CRKALN_010']"
      ]
     },
     "execution_count": 1,
     "metadata": {},
     "output_type": "execute_result"
    }
   ],
   "source": [
    "from prepare_data import listTurbines\n",
    "\n",
    "\n",
    "turbines = listTurbines()\n",
    "turbines"
   ]
  },
  {
   "cell_type": "code",
   "execution_count": 2,
   "metadata": {},
   "outputs": [
    {
     "name": "stdout",
     "output_type": "stream",
     "text": [
      "(297360, 720, 26)\n",
      "Index(['avgwindspeed', 'avgpower', 'windspeedstandarddeviation',\n",
      "       'nacelleposition', 'avgwinddirection', 'availablepowerpublished',\n",
      "       'avgrotorspeed', 'avgpitchangle', 'avgreactivepower',\n",
      "       'ambienttemperature', 'avghumidity', 'turbinepressure', 'density',\n",
      "       'latitude', 'longitude', 'cutoutwindspeed', 'ratedwindspeed',\n",
      "       'rotordiameter', 'hubheight', 'groundlevelaltitude', 'turbulent',\n",
      "       'underperformanceprobability', 'overperformanceprobability',\n",
      "       'turbulentvalid', 'underperformanceprobabilityvalid',\n",
      "       'overperformanceprobabilityvalid'],\n",
      "      dtype='object')\n"
     ]
    }
   ],
   "source": [
    "from prepare_data import TurbineData\n",
    "\n",
    "\n",
    "turbineData = TurbineData(turbines[1], verbose=True)\n",
    "print(turbineData.data3d.shape)\n",
    "print(turbineData.columns)"
   ]
  },
  {
   "cell_type": "markdown",
   "metadata": {},
   "source": [
    "### Filter valid data"
   ]
  },
  {
   "cell_type": "code",
   "execution_count": 3,
   "metadata": {},
   "outputs": [
    {
     "data": {
      "text/plain": [
       "(1, 0)"
      ]
     },
     "execution_count": 3,
     "metadata": {},
     "output_type": "execute_result"
    }
   ],
   "source": [
    "idPower = turbineData.getIdOfColumn(\"avgpower\")\n",
    "idWind = turbineData.getIdOfColumn(\"avgwindspeed\")\n",
    "\n",
    "idPower, idWind"
   ]
  },
  {
   "cell_type": "code",
   "execution_count": 4,
   "metadata": {},
   "outputs": [
    {
     "name": "stdout",
     "output_type": "stream",
     "text": [
      "Valid: 10995\n",
      "Not underperform: 297360\n",
      "Normal: 10995\n"
     ]
    }
   ],
   "source": [
    "normalIndices = turbineData.getNormalIndices(\n",
    "    maxConsecutiveInvalid=5,  # 1 hours of consecutive invalid data\n",
    "    maxInvalidRate=0.5,\n",
    "    underperformThreshold=1,  # ignore underperf threshold\n",
    ")"
   ]
  },
  {
   "cell_type": "markdown",
   "metadata": {},
   "source": [
    "## Split train test"
   ]
  },
  {
   "cell_type": "code",
   "execution_count": 5,
   "metadata": {},
   "outputs": [
    {
     "name": "stdout",
     "output_type": "stream",
     "text": [
      "8796 2199\n"
     ]
    }
   ],
   "source": [
    "import numpy as np\n",
    "\n",
    "\n",
    "SEED = 17\n",
    "TEST_RATIO = 0.2\n",
    "\n",
    "\n",
    "# suffle data\n",
    "np.random.seed(SEED)\n",
    "np.random.shuffle(normalIndices)\n",
    "\n",
    "# split data\n",
    "n_test = int(len(normalIndices) * TEST_RATIO)\n",
    "testIndices = normalIndices[:n_test]\n",
    "trainIndices = normalIndices[n_test:]\n",
    "\n",
    "print(len(trainIndices), len(testIndices))"
   ]
  },
  {
   "cell_type": "code",
   "execution_count": null,
   "metadata": {},
   "outputs": [
    {
     "name": "stdout",
     "output_type": "stream",
     "text": [
      "(4853, 5)\n"
     ]
    }
   ],
   "source": [
    "from sklearn.discriminant_analysis import StandardScaler\n",
    "from sklearn.impute import KNNImputer\n",
    "from sklearn.pipeline import Pipeline\n",
    "\n",
    "from cls_dataset import trainTestTurbineDataset\n",
    "\n",
    "\n",
    "targetFeats = [\n",
    "    \"avgwindspeed\",\n",
    "    \"avgpower\",\n",
    "    \"ambienttemperature\",\n",
    "    \"avghumidity\",\n",
    "    \"avgrotorspeed\",\n",
    "]\n",
    "targetFeatIndices = [turbineData.getIdOfColumn(feat) for feat in targetFeats]\n",
    "\n",
    "underPerfValidId = turbineData.getIdOfColumn(\"underperformanceprobabilityvalid\")\n",
    "\n",
    "\n",
    "sortedTrainIndices = trainIndices.copy()\n",
    "sortedTrainIndices.sort()  # h5py requires sorted indices\n",
    "\n",
    "trainData2d = turbineData.data3d[sortedTrainIndices, 0, :]\n",
    "# drop invalid \n",
    "trainData2d = trainData2d[trainData2d[:, underPerfValidId] == 1]\n",
    "\n",
    "scalerTrainData = trainData2d[:, targetFeatIndices]\n",
    "print(scalerTrainData.shape)\n",
    "\n",
    "stdScaler = StandardScaler()\n",
    "stdScaler.fit(scalerTrainData)\n",
    "\n",
    "knn = KNNImputer(n_neighbors=3)\n",
    "knn.fit(scalerTrainData)\n",
    "\n",
    "transformer = Pipeline([(\"scaler\", stdScaler), (\"knn\", knn)])\n",
    "\n",
    "trainSet, testSet = trainTestTurbineDataset(\n",
    "    turbineData.data3d,\n",
    "    trainIndices,\n",
    "    testIndices,\n",
    "    targetFeatIndices,\n",
    "    transformer.transform,\n",
    "    underPerfValidId,\n",
    ")\n",
    "\n",
    "print(f\"Data shape: {trainSet[0][0].shape}\")"
   ]
  },
  {
   "cell_type": "code",
   "execution_count": null,
   "metadata": {},
   "outputs": [
    {
     "data": {
      "text/plain": [
       "np.float64(0.24117233893110274)"
      ]
     },
     "execution_count": 7,
     "metadata": {},
     "output_type": "execute_result"
    }
   ],
   "source": [
    "## check for nan \n",
    "import numpy as np\n",
    "\n",
    "np.sum(np.isnan(scalerTrainData)) / np.prod(scalerTrainData.shape)"
   ]
  },
  {
   "cell_type": "markdown",
   "metadata": {},
   "source": [
    "## Model"
   ]
  },
  {
   "cell_type": "code",
   "execution_count": null,
   "metadata": {},
   "outputs": [
    {
     "name": "stdout",
     "output_type": "stream",
     "text": [
      "Conv1: torch.Size([32, 8, 360, 3])\n",
      "Conv2: torch.Size([32, 16, 180, 2])\n",
      "Conv3: torch.Size([32, 32, 179, 1])\n",
      "Expected output shape: torch.Size([32, 1, 720, 5])\n",
      "Output shape: torch.Size([32, 1, 717, 5])\n"
     ]
    }
   ],
   "source": [
    "import torch\n",
    "import torch.nn as nn\n",
    "\n",
    "\n",
    "class Encoder(nn.Module):\n",
    "    def __init__(self, latentDim):\n",
    "        super().__init__()\n",
    "        self.latentDim = latentDim\n",
    "        # 1 learnable embedding for invalid values\n",
    "        self.conv1 = nn.Conv2d(1, 8, kernel_size=3, stride=2, padding=1)  # 5->3\n",
    "        self.conv2 = nn.Conv2d(8, 16, kernel_size=3, stride=2, padding=1)  # 3->2\n",
    "        self.conv3 = nn.Conv2d(16, 32, kernel_size=2)  # 2->1\n",
    "        self.flatten = nn.Flatten()\n",
    "        self.fc1 = nn.Linear(5728, 2048)\n",
    "        self.fc2 = nn.Linear(2048, latentDim)\n",
    "\n",
    "        # debug flag\n",
    "        self.debug = 0  # print once\n",
    "    def forward(self, x, mask):\n",
    "        debugging = False\n",
    "        if self.debug > 0:\n",
    "            debugging = True\n",
    "            self.debug -= 1\n",
    "\n",
    "        if mask is None:\n",
    "            raise ValueError(\"Mask is required\")\n",
    "        xShapeLen = len(x.shape)\n",
    "        if mask.shape != x.shape[0 : xShapeLen - 1]:\n",
    "            raise ValueError(\n",
    "                \"Mask shape must cover til x's time steps: \"\n",
    "                + str(mask.shape)\n",
    "                + \" != \"\n",
    "                + str(x.shape[0 : xShapeLen - 1])\n",
    "            )\n",
    "\n",
    "        maskAdd1 = mask.unsqueeze(-1).expand_as(x)\n",
    "        x = x * maskAdd1 + (1 - maskAdd1) * self.maskEmbed\n",
    "        x= self.conv1(x)\n",
    "        x = torch.relu(x)\n",
    "        if debugging:\n",
    "            print(f\"Conv1: {x.shape}\")\n",
    "            \n",
    "        x = self.conv2(x)\n",
    "        x = torch.relu(x)\n",
    "        if debugging:\n",
    "            print(f\"Conv2: {x.shape}\")\n",
    "            \n",
    "        x = self.conv3(x)\n",
    "        x = torch.relu(x)\n",
    "        if debugging:\n",
    "            print(f\"Conv3: {x.shape}\")\n",
    "            \n",
    "        x = self.flatten(x)\n",
    "        x = self.fc1(x)\n",
    "        x = torch.relu(x)\n",
    "        x = self.fc2(x)\n",
    "        return x\n",
    "class Decoder(nn.Module):\n",
    "    def __init__(self, latentDim):\n",
    "        super().__init__()\n",
    "        self.latentDim = latentDim\n",
    "        self.fc1 = nn.Linear(latentDim, 2048)\n",
    "        self.fc2 = nn.Linear(2048, 5728)\n",
    "        self.conv1 = nn.ConvTranspose2d(32, 16, kernel_size=2)\n",
    "        self.conv2 = nn.ConvTranspose2d(16, 8, kernel_size=3, stride=2, padding=1)\n",
    "        self.conv3 = nn.ConvTranspose2d(8, 1, kernel_size=3, stride=2, padding=1)\n",
    "        self.debug = 0  # print once\n",
    "    def forward(self, x):\n",
    "        debugging = False\n",
    "        if self.debug > 0:\n",
    "            debugging = True\n",
    "            self.debug -= 1\n",
    "        x = self.fc1(x)\n",
    "        x = torch.relu(x)\n",
    "        if debugging:\n",
    "            print(f\"FC1: {x.shape}\")\n",
    "        x = self.fc2(x)\n",
    "        x = torch.relu(x)\n",
    "        if debugging:\n",
    "            print(f\"FC2: {x.shape}\")\n",
    "        x = x.view(-1, 32, 179, 1)\n",
    "        x = self.conv1(x)\n",
    "        x = torch.relu(x)\n",
    "        if debugging:\n",
    "            print(f\"Conv1: {x.shape}\")\n",
    "        x = self.conv2(x)\n",
    "        x = torch.relu(x)\n",
    "        if debugging:\n",
    "            print(f\"Conv2: {x.shape}\")\n",
    "        x = self.conv3(x)\n",
    "        if debugging:\n",
    "            print(f\"Conv3: {x.shape}\")\n",
    "        x = torch.sigmoid(x)\n",
    "        return x\n",
    "class Autoencoder(nn.Module):\n",
    "    def __init__(self, latent_dim: int):\n",
    "        super().__init__()\n",
    "        self.encoder = Encoder(latent_dim)\n",
    "        self.decoder = Decoder(latent_dim)\n",
    "    def forward(self, x, mask=None):\n",
    "        latent = self.encoder(x, mask)\n",
    "        reconstructed = self.decoder(latent)\n",
    "        return reconstructed\n",
    "\n",
    "\n",
    "# test if the model is working\n",
    "testModel = Autoencoder(1024)\n",
    "testModel.encoder.debug = 1\n",
    "\n",
    "# pass a random tensor to the model\n",
    "x = torch.randn(32, 1, 720, 5)\n",
    "output = testModel(x, mask=torch.ones(x.shape[:3]))\n",
    "\n",
    "print(f\"Expected output shape: {x.shape}\")\n",
    "print(f\"Output shape: {output.shape}\")\n",
    "\n",
    "# print(x[0])\n",
    "# print(output[0])\n",
    "\n",
    "del testModel\n",
    "del x\n",
    "del output"
   ]
  },
  {
   "cell_type": "markdown",
   "metadata": {},
   "source": [
    "## Training "
   ]
  },
  {
   "cell_type": "code",
   "execution_count": null,
   "metadata": {},
   "outputs": [],
   "source": [
    "from masking import maskedMseLoss"
   ]
  },
  {
   "cell_type": "code",
   "execution_count": null,
   "metadata": {},
   "outputs": [
    {
     "ename": "NameError",
     "evalue": "name 'torch' is not defined",
     "output_type": "error",
     "traceback": [
      "\u001b[0;31m---------------------------------------------------------------------------\u001b[0m",
      "\u001b[0;31mNameError\u001b[0m                                 Traceback (most recent call last)",
      "Cell \u001b[0;32mIn[1], line 6\u001b[0m\n\u001b[1;32m      2\u001b[0m \u001b[38;5;28;01mimport\u001b[39;00m \u001b[38;5;21;01mtorch\u001b[39;00m\u001b[38;5;21;01m.\u001b[39;00m\u001b[38;5;21;01moptim\u001b[39;00m \u001b[38;5;28;01mas\u001b[39;00m \u001b[38;5;21;01moptim\u001b[39;00m\n\u001b[1;32m      3\u001b[0m \u001b[38;5;28;01mfrom\u001b[39;00m \u001b[38;5;21;01mtorch\u001b[39;00m\u001b[38;5;21;01m.\u001b[39;00m\u001b[38;5;21;01mutils\u001b[39;00m\u001b[38;5;21;01m.\u001b[39;00m\u001b[38;5;21;01mdata\u001b[39;00m \u001b[38;5;28;01mimport\u001b[39;00m DataLoader\n\u001b[0;32m----> 6\u001b[0m device \u001b[38;5;241m=\u001b[39m \u001b[43mtorch\u001b[49m\u001b[38;5;241m.\u001b[39mdevice(\u001b[38;5;124m\"\u001b[39m\u001b[38;5;124mcuda\u001b[39m\u001b[38;5;124m\"\u001b[39m \u001b[38;5;28;01mif\u001b[39;00m torch\u001b[38;5;241m.\u001b[39mcuda\u001b[38;5;241m.\u001b[39mis_available() \u001b[38;5;28;01melse\u001b[39;00m \u001b[38;5;124m\"\u001b[39m\u001b[38;5;124mcpu\u001b[39m\u001b[38;5;124m\"\u001b[39m)\n\u001b[1;32m      8\u001b[0m trainLoader \u001b[38;5;241m=\u001b[39m DataLoader(trainSet, batch_size\u001b[38;5;241m=\u001b[39m\u001b[38;5;241m16\u001b[39m, shuffle\u001b[38;5;241m=\u001b[39m\u001b[38;5;28;01mTrue\u001b[39;00m, pin_memory\u001b[38;5;241m=\u001b[39m\u001b[38;5;28;01mTrue\u001b[39;00m)\n\u001b[1;32m      9\u001b[0m testLoader \u001b[38;5;241m=\u001b[39m DataLoader(testSet, batch_size\u001b[38;5;241m=\u001b[39m\u001b[38;5;241m16\u001b[39m, shuffle\u001b[38;5;241m=\u001b[39m\u001b[38;5;28;01mTrue\u001b[39;00m, pin_memory\u001b[38;5;241m=\u001b[39m\u001b[38;5;28;01mTrue\u001b[39;00m)\n",
      "\u001b[0;31mNameError\u001b[0m: name 'torch' is not defined"
     ]
    }
   ],
   "source": [
    "from matplotlib import pyplot as plt\n",
    "import torch.optim as optim\n",
    "from torch.utils.data import DataLoader\n",
    "\n",
    "\n",
    "device = torch.device(\"cuda\" if torch.cuda.is_available() else \"cpu\")\n",
    "\n",
    "trainLoader = DataLoader(trainSet, batch_size=16, shuffle=True, pin_memory=True)\n",
    "testLoader = DataLoader(testSet, batch_size=16, shuffle=True, pin_memory=True)\n",
    "\n",
    "model = Autoencoder(1024).to(device)\n",
    "criterion = maskedMseLoss\n",
    "optimizer = optim.Adam(model.parameters())\n",
    "\n",
    "# Training loop\n",
    "num_epochs = 10\n",
    "outputs = []\n",
    "losses = []\n",
    "for epoch in range(num_epochs):\n",
    "    for x, mask in trainLoader:\n",
    "        x, mask = x.float().to(device), mask.float().to(device)\n",
    "\n",
    "        # Forward pass\n",
    "        reconstructs = model(x, mask)\n",
    "\n",
    "        f = open(\"train.log\", \"w+\")\n",
    "        print(x, file=f)\n",
    "        print(\"=\" * 50, file=f)\n",
    "        print(mask, file=f)\n",
    "        print(\"=\" * 50, file=f)\n",
    "        print(reconstructs, file=f)\n",
    "        exit(0)\n",
    "\n",
    "        # match reconstructed shape with inputs\n",
    "        n_timestepsReconstructed = reconstructs.shape[-2]\n",
    "        x = x[:, :, :n_timestepsReconstructed, :]\n",
    "        mask = mask[:, :, :n_timestepsReconstructed]\n",
    "\n",
    "        loss = criterion(reconstructs, x, mask)\n",
    "\n",
    "        # Backward pass and optimization\n",
    "        optimizer.zero_grad()\n",
    "        loss.backward()\n",
    "        optimizer.step()\n",
    "\n",
    "        losses.append(loss.item())\n",
    "    outputs.append((num_epochs, x.detach().cpu(), reconstructs.detach().cpu()))\n",
    "\n",
    "    print(f\"Epoch [{epoch+1}/{num_epochs}], Loss: {np.mean(losses):.4f}\")\n",
    "\n",
    "# Save the model\n",
    "torch.save(model.state_dict(), \"autoencoder_cnn.pth\")\n",
    "\n",
    "plt.style.use(\"fivethirtyeight\")\n",
    "plt.xlabel(\"Iterations\")\n",
    "plt.ylabel(\"Loss\")\n",
    "\n",
    "# Plotting the last 100 values\n",
    "\n",
    "plt.plot(losses[0:100])"
   ]
  },
  {
   "cell_type": "code",
   "execution_count": null,
   "metadata": {},
   "outputs": [
    {
     "data": {
      "text/plain": [
       "'Quadro T2000'"
      ]
     },
     "execution_count": 11,
     "metadata": {},
     "output_type": "execute_result"
    }
   ],
   "source": [
    "import torch \n",
    "\n",
    "torch.cuda.get_device_name(0)"
   ]
  }
 ],
 "metadata": {
  "kernelspec": {
   "display_name": "base",
   "language": "python",
   "name": "python3"
  },
  "language_info": {
   "codemirror_mode": {
    "name": "ipython",
    "version": 3
   },
   "file_extension": ".py",
   "mimetype": "text/x-python",
   "name": "python",
   "nbconvert_exporter": "python",
   "pygments_lexer": "ipython3",
   "version": "3.9.19"
  }
 },
 "nbformat": 4,
 "nbformat_minor": 2
}
